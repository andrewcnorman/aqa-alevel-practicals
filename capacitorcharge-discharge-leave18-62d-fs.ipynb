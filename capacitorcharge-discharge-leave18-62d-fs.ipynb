{
 "cells": [
  {
   "cell_type": "markdown",
   "metadata": {},
   "source": [
    "### Capacitance Charging/Discharging Practical\n",
    "\n",
    "### Aim\n",
    "\n",
    "### Method"
   ]
  },
  {
   "cell_type": "markdown",
   "metadata": {},
   "source": [
    "Charging/Discharging Capacitors Experiment\n",
    "\n",
    "Intoduction and aims :\n",
    "\n",
    "I will be conducting an experiment that charges and discharges capacitors,of varying capacitance, through setting up a circuit and taking data points. With these, I hope to plot two graphs: one including the charge/discharge graphs, and the other to confirm the discharge curve is exponential. The exquipment used throughout this practical is listed below as well as the formulae involved in calculations.\n",
    "\n",
    "$x = v_{0}e^{-t/RC}$\n",
    "\n",
    "$V = V_{0}(1−e^{−t/RC})$\n",
    "\n",
    "Equipment:\n",
    "\n",
    "- Voltmeter\n",
    "- Battery pack(5 Volts)\n",
    "- Resistor(Set at 100 Ohms)\n",
    "- Capacitors(100μF and 470μF.)\n",
    "- A switch\n",
    "- Wires"
   ]
  },
  {
   "cell_type": "raw",
   "metadata": {},
   "source": [
    "           Battey Pack(5V)\n",
    " __________------------__________\n",
    "|          ------------          |\n",
    "|                                .\n",
    "|                                ./  Switch\n",
    "|                                |\n",
    "|                                |____________\n",
    "|                 capacitor(μF)  ──           |\n",
    "|                                ──           (V) Voltmeter\n",
    "|                                |____________|\n",
    "|                                |\n",
    "|                                |\n",
    "|____________/\\/\\/\\/\\____________|\n",
    "          Resistor(100ohms)"
   ]
  },
  {
   "cell_type": "markdown",
   "metadata": {},
   "source": [
    "Method:\n",
    "\n",
    "- Set up the equipment as shown in the diagram above.\n",
    "- Switch on the batter pack and observe a rise in the voltage shown on the voltmeter,\n",
    "- The voltage should be noted every 10 seconds and recorded until 120 seconds has elapsed.\n",
    "- Switch off the battery pack and repeat twice more to attain an average voltage gain across the experiment.\n",
    "- Alter the apparatus placing the resistor in parallel with the capacitor as shown below.\n",
    "- Repeat twice more to attain an average voltage drop over the 120 second period."
   ]
  },
  {
   "cell_type": "raw",
   "metadata": {},
   "source": [
    "\n",
    "           Battey Pack(5V)\n",
    " __________------------__________\n",
    "|          ------------          |\n",
    "|                                .\n",
    "|                                ./  Switch\n",
    "|                                |\n",
    "|                                |______________\n",
    "|                 capacitor(μF)  ──   |         |\n",
    "|                                ──  Resistor  (V) Voltmeter\n",
    "|                                |____|_________|\n",
    "|                                |\n",
    "|                                |\n",
    "|________________________________|\n",
    "\n",
    "\n"
   ]
  },
  {
   "cell_type": "raw",
   "metadata": {},
   "source": [
    "Results:\n",
    "\n",
    "Raw Data (Discharging 100uF at 100ohms):\n",
    "\n",
    "Voltage/Time\n",
    "\n",
    "4.90v--0s\n",
    "4.86v--10s\n",
    "4.82v--20s\n",
    "4.78v--30s\n",
    "4.75v--40s\n",
    "4.71v--50s\n",
    "4.67v--60s\n",
    "4.64v--70s\n",
    "4.60v--80s\n",
    "4.57v--90s\n",
    "4.53v--100s\n",
    "4.49v--110s\n",
    "4.46v-120s\n",
    "\n",
    "\n",
    "Raw Data (Discharging 470uF at 100ohms):\n",
    "\n",
    "5.34v--0s\n",
    "5.27v--10s\n",
    "5.25v--20s\n",
    "5.23v--30s\n",
    "5.22v--40s\n",
    "5.20v--50s\n",
    "5.19v--60s\n",
    "5.17v--70s\n",
    "5.16v--80s\n",
    "5.14v--90s\n",
    "5.13v--100s\n",
    "5.11v--110s\n",
    "5.10v--120s"
   ]
  },
  {
   "cell_type": "markdown",
   "metadata": {},
   "source": [
    "|$t/\\mathrm(s)$| Charging Voltage/s |"
   ]
  }
 ],
 "metadata": {
  "kernelspec": {
   "display_name": "Python 3",
   "language": "python",
   "name": "python3"
  },
  "language_info": {
   "codemirror_mode": {
    "name": "ipython",
    "version": 3
   },
   "file_extension": ".py",
   "mimetype": "text/x-python",
   "name": "python",
   "nbconvert_exporter": "python",
   "pygments_lexer": "ipython3",
   "version": "3.6.1"
  }
 },
 "nbformat": 4,
 "nbformat_minor": 1
}
