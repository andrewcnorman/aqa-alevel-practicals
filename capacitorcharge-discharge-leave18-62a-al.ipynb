{
 "cells": [
  {
   "cell_type": "markdown",
   "metadata": {},
   "source": [
    "# capacitor write up"
   ]
  },
  {
   "cell_type": "markdown",
   "metadata": {},
   "source": [
    "## Aims"
   ]
  },
  {
   "cell_type": "markdown",
   "metadata": {},
   "source": [
    "Investigation of the charge and discharge of capacitors"
   ]
  },
  {
   "cell_type": "markdown",
   "metadata": {},
   "source": [
    "## Safety Considerations"
   ]
  },
  {
   "cell_type": "markdown",
   "metadata": {},
   "source": [
    " consider hazards and risks associated with circuits and capacitors.\n"
   ]
  },
  {
   "cell_type": "markdown",
   "metadata": {},
   "source": [
    " Do not overcharge the capacitor.\n"
   ]
  },
  {
   "cell_type": "markdown",
   "metadata": {},
   "source": [
    " No water near the apparatus as it may lead to electric hazard.\n"
   ]
  },
  {
   "cell_type": "markdown",
   "metadata": {},
   "source": [
    " Make sure the capacitor is discharged in the end."
   ]
  },
  {
   "cell_type": "markdown",
   "metadata": {},
   "source": [
    "## Theory"
   ]
  },
  {
   "cell_type": "markdown",
   "metadata": {},
   "source": [
    "As a capacitor of capacitance C is discharged through a resistor of resistance R the voltage across\n",
    "The capacitor V varies according to\n"
   ]
  },
  {
   "cell_type": "markdown",
   "metadata": {},
   "source": [
    "$$ V = V_{0}e^{-t/RC} (1) $$"
   ]
  },
  {
   "cell_type": "markdown",
   "metadata": {},
   "source": [
    "Where $ V_{0} $ is the voltage across the capacitor when t = 0."
   ]
  },
  {
   "cell_type": "markdown",
   "metadata": {},
   "source": [
    "If the same capacitor is now charged in series with a resistance R, the voltage across the capacitor varies according to\n"
   ]
  },
  {
   "cell_type": "markdown",
   "metadata": {},
   "source": [
    "$$ V = V_{0}(1−e^{−t/RC}) (2) $$"
   ]
  },
  {
   "cell_type": "markdown",
   "metadata": {},
   "source": [
    "where $ V_{0} $ is the voltage across the capacitor when it is fully charged (i.e. the supply voltage).\n"
   ]
  },
  {
   "cell_type": "markdown",
   "metadata": {},
   "source": [
    "## Apparatus"
   ]
  },
  {
   "cell_type": "markdown",
   "metadata": {},
   "source": [
    "various capacitors (including 2200µF, 1000µF and 470µF)\n",
    "\n",
    "various resistors\n",
    "\n",
    "voltmeter\n",
    "\n",
    "6V battery pack\n",
    "\n",
    "SPDT(single pole,double throw)switch\n",
    "\n",
    "stop clock\n",
    "\n",
    "leads"
   ]
  },
  {
   "cell_type": "markdown",
   "metadata": {},
   "source": [
    "## Experimental Method"
   ]
  },
  {
   "cell_type": "markdown",
   "metadata": {},
   "source": [
    "1.Design a single circuit to investigate the charging and discharging of a capacitor.\n",
    "\n",
    "2.Choose suitable values of R and C to allow a complete set of results to be obtained within a reasonable time (i.e.repeats are not required).\n",
    "\n",
    "3.Plot the charge and discharge curves for the voltages against time on the same graph.\n",
    "\n",
    "4.By suitably manipulating equation 1 above,choose carefully what x and y axes to choose and\n",
    "what to plot on a second graph in order to conﬁrm that the discharge curve is exponential.\n",
    "\n",
    "[images not shared with don - ACN]\n",
    "[img src=\"WechatIMG3.jpeg\" height=\"150\" width=\"150\" /><img src=\"WechatIMG2.jpeg\" height=\"150\" width=\"150\" /]"
   ]
  },
  {
   "cell_type": "markdown",
   "metadata": {},
   "source": [
    "## Results ##"
   ]
  },
  {
   "cell_type": "markdown",
   "metadata": {},
   "source": [
    "| Voltage(V) | Time(s) | Voltage(V) | Time(s) |\n",
    "| ------| -----| -- |\n",
    "|3.36|0 | 0.45 | 0  |\n",
    "|3.17|10| 0.71 | 10 |\n",
    "|3.01|20| 0.91 | 20 |\n",
    "|2.87|30| 1.12 | 30 |\n",
    "|2.72|40| 1.23 | 40 |\n",
    "|2.58|50| 1.52 | 50 |\n",
    "|2.48|60| 1.70 | 60 |\n",
    "|2.35|70| 1.87 | 70 |\n",
    "|2.25|80| 2.04 | 80 |\n",
    "|2.13|90| 2.18 | 90 |\n",
    "|2.03|100|2.43 | 100 |\n",
    "|1.93|110|2.47 | 110 |\n",
    "|1.83|120|2.59 | 120 |\n",
    "|1.76|130|2.68 | 130 |\n",
    "|1.67|140|2.77 | 140 |\n",
    "|1.60|150|2.87 | 150 |\n",
    "|1.51|160|2.94 | 160 |\n",
    "|1.44|170|3.02 | 170 |\n",
    "|1.37|180|3.10 | 180 |\n",
    "| Capacitance(f) | Resistance(ohms) |\n",
    "| 2200*10^-6 | 1*10^5 |\n",
    "\n",
    "\n",
    "\n",
    "\n",
    "\n",
    "\n",
    "\n",
    "\n",
    "\n"
   ]
  },
  {
   "cell_type": "code",
   "execution_count": 1,
   "metadata": {},
   "outputs": [],
   "source": [
    "## Graphs ##"
   ]
  },
  {
   "cell_type": "code",
   "execution_count": 2,
   "metadata": {},
   "outputs": [
    {
     "data": {
      "image/png": "[encoded data removed]",
      "text/plain": [
       "<matplotlib.figure.Figure at 0xb4225bec>"
      ]
     },
     "metadata": {},
     "output_type": "display_data"
    }
   ],
   "source": [
    "#\n",
    "# Paste the data you wish to graph in tab-delimited rows in the format:\n",
    "#\n",
    "#       xdata <tab> ydata\n",
    "#\n",
    "# In this example the xdata is time (s) and y data is y position (cm)\n",
    "#\n",
    "\n",
    "data = \"\"\"\n",
    "0.45        0\n",
    "0.71        10\n",
    "0.91        20\n",
    "1.12        30\n",
    "1.23        40\n",
    "1.52        50\n",
    "1.7         60\n",
    "1.87        70\n",
    "2.04        80\n",
    "2.18        90\n",
    "2.32        100\n",
    "2.47        110\n",
    "2.59        120\n",
    "2.68        130\n",
    "2.77        140\n",
    "2.87        150\n",
    "2.94        160\n",
    "3.02        170\n",
    "3.1         180\n",
    "\"\"\".split('\\n')  # split this string on the \"newline\" character.\n",
    "\n",
    "#print len(data)\n",
    "\n",
    "\n",
    "#\n",
    "# The data is stored in a single string. Now, split the data and store\n",
    "# each column in a list. Convert the data from a string to a float.\n",
    "#\n",
    "tlist = []\n",
    "ylist = []\n",
    "\n",
    "for s in data:\n",
    "    if s:\n",
    "        t,y = s.split()     # split the string in two\n",
    "        t=float(t)          # convert time to float\n",
    "        y=float(y)          # convert y-position (cm) to float in meters\n",
    "        tlist.append(t)     # append to the list for time data\n",
    "        ylist.append(y)     # append to the list for y-position data\n",
    "        \n",
    "#print \"tlist=\",tlist\n",
    "#print \"ylist=\",ylist\n",
    "\n",
    "import matplotlib.pyplot as plt\n",
    "plt.title('Charging')\n",
    "plt.xlabel('t (s)')\n",
    "plt.ylabel('v (v)')\n",
    "plt.plot(ylist,tlist,'m.')\n",
    "plt.show()\n"
   ]
  },
  {
   "cell_type": "code",
   "execution_count": 3,
   "metadata": {},
   "outputs": [
    {
     "data": {
      "image/png": "[encoded data removed]",
      "text/plain": [
       "<matplotlib.figure.Figure at 0xb422562c>"
      ]
     },
     "metadata": {},
     "output_type": "display_data"
    }
   ],
   "source": [
    "#\n",
    "# Paste the data you wish to graph in tab-delimited rows in the format:\n",
    "#\n",
    "#       xdata <tab> ydata\n",
    "#\n",
    "# In this example the xdata is time (s) and y data is y position (cm)\n",
    "#\n",
    "\n",
    "data = \"\"\"\n",
    "3.36        0\n",
    "3.17        10\n",
    "3.01        20\n",
    "2.87        30\n",
    "2.72        40\n",
    "2.58        50\n",
    "2.48        60\n",
    "2.35        70\n",
    "2.25        80\n",
    "2.13        90\n",
    "2.03        100\n",
    "1.93        110\n",
    "1.83        120\n",
    "1.76        130\n",
    "1.67        140\n",
    "1.6         150\n",
    "1.51        160\n",
    "1.44        170\n",
    "1.37        180\n",
    "\"\"\".split('\\n')  # split this string on the \"newline\" character.\n",
    "\n",
    "#print len(data)\n",
    "\n",
    "\n",
    "#\n",
    "# The data is stored in a single string. Now, split the data and store\n",
    "# each column in a list. Convert the data from a string to a float.\n",
    "#\n",
    "tlist = []\n",
    "ylist = []\n",
    "\n",
    "for s in data:\n",
    "    if s:\n",
    "        t,y = s.split()     # split the string in two\n",
    "        t=float(t)          # convert time to float\n",
    "        y=float(y)          # convert y-position (cm) to float in meters\n",
    "        tlist.append(t)     # append to the list for time data\n",
    "        ylist.append(y)     # append to the list for y-position data\n",
    "        \n",
    "#print \"tlist=\",tlist\n",
    "#print \"ylist=\",ylist\n",
    "\n",
    "import matplotlib.pyplot as plt\n",
    "plt.title('Discharging')\n",
    "plt.xlabel('t (s)')\n",
    "plt.ylabel('v (v)')\n",
    "plt.plot(ylist,tlist,'m.')\n",
    "plt.show()\n"
   ]
  },
  {
   "cell_type": "markdown",
   "metadata": {},
   "source": [
    "## Conclusion ##"
   ]
  },
  {
   "cell_type": "markdown",
   "metadata": {},
   "source": [
    "In our charging and discharging experimentm, the graphs demonstrate a positive correlation, but the exponential characteristic is not obvious. We conclude that by having more repeated results, a larger range of resistance/capacitance and a smaller devision of time."
   ]
  }
 ],
 "metadata": {
  "kernelspec": {
   "display_name": "Python 3",
   "language": "python",
   "name": "python3"
  },
  "language_info": {
   "codemirror_mode": {
    "name": "ipython",
    "version": 3
   },
   "file_extension": ".py",
   "mimetype": "text/x-python",
   "name": "python",
   "nbconvert_exporter": "python",
   "pygments_lexer": "ipython3",
   "version": "3.6.1"
  }
 },
 "nbformat": 4,
 "nbformat_minor": 1
}
