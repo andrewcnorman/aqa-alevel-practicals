{
 "cells": [
  {
   "cell_type": "markdown",
   "metadata": {},
   "source": [
    "## Capacitor Vharging/discharging.\n",
    "\n",
    "###Introduction\n",
    "\n",
    "$V = V_{0} e^{-t/RC}$\n",
    "\n",
    "I am going to use a capacitor $C = 2200~\\myF$, resistor $R=10k\\Omega$\n",
    "\n",
    "This gives a time constant of 22s\n",
    "\n",
    "\n"
   ]
  },
  {
   "cell_type": "markdown",
   "metadata": {},
   "source": [
    "|Voltage | Discharging  | $t/s$ |\n",
    "|--------|------------|------|\n",
    "| 4.60 | 0.00  | 0  |\n",
    "| 2.30 | 2.39  | 10 |\n",
    "| 1.30 | 3.62  | 20 |\n",
    "| 0.84 | 4.17  | 30 |\n",
    "| 0.51 | 4.42  | 40 |\n",
    "| 0.32 | 4.53  | 50 |\n",
    "| 0.17 | 4.58  | 60 |\n",
    "| 0.11 | 4.60  | 70 |\n",
    "| 0.08 | 4.62  | 80 |"
   ]
  },
  {
   "cell_type": "markdown",
   "metadata": {},
   "source": [
    "Safety Considerations \n",
    "\n",
    "Capacitors can maintain charge even when it is not connnected to power so make sure the circuit is discharged before you touch it.\n",
    "\n",
    "Oil filled capacitors must be disposed of properly.\n",
    "\n",
    "Wear necassary safety equipment e.g goggles, gloves.\n",
    "\n"
   ]
  },
  {
   "cell_type": "markdown",
   "metadata": {},
   "source": [
    "Apparatus\n",
    "\n",
    "various capacitors (including 2200 μF, 1000 μF and 470 μF) \n",
    "various resistors\n",
    "voltmeter\n",
    "6 V battery pack\n",
    "SPDT (single pole, double throw) switch stopclock\n",
    "leads"
   ]
  },
  {
   "cell_type": "markdown",
   "metadata": {},
   "source": [
    "Experimental Method\n",
    "1. Design a single circuit to investigate the charging and discharging of a capacitor.\n",
    "2. Choose suitable values of R and C to allow a complete set of results to be obtained within a reasonable time (i.e. repeats are not required)\n",
    "3. Plot the charge and discharge curves for the voltages against time on the same graph.\n",
    "4. By suitably manipulating the equation above, choose carefully what x and y axes to choose and what to plot on a second graph in order to confirm that the discharge curve is exponential."
   ]
  },
  {
   "cell_type": "markdown",
   "metadata": {},
   "source": []
  }
 ],
 "metadata": {
  "kernelspec": {
   "display_name": "Python 3",
   "language": "python",
   "name": "python3"
  },
  "language_info": {
   "codemirror_mode": {
    "name": "ipython",
    "version": 3
   },
   "file_extension": ".py",
   "mimetype": "text/x-python",
   "name": "python",
   "nbconvert_exporter": "python",
   "pygments_lexer": "ipython3",
   "version": "3.6.1"
  }
 },
 "nbformat": 4,
 "nbformat_minor": 1
}
