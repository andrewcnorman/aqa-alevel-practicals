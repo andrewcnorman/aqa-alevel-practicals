{
 "cells": [
  {
   "cell_type": "markdown",
   "metadata": {},
   "source": [
    "# Capacitor charging / discharging\n",
    "\n",
    "### Introduction\n",
    "In this experiment the aim os to design a circuit in order to investigate the charging and discharging of a capacitor by measuring the charging and discharging curves for the voltage against time.\n",
    "I will record the data on CoCalc\n",
    "I will take the voltage reading every 10 seconds until the voltage stops changing\n",
    "\n",
    "$V = V_{0} e^{-t/RC}$\n",
    "\n",
    "I am going to use a capacitor $C=1000\\mu F$, resistor $R=22k\\Omega$\n",
    "\n",
    "This gives a time constant of 48 s\n",
    "\n",
    "charge to 3.8V\n",
    "\n",
    "# Equipment used\n",
    "\n",
    "$R=22k\\Omega$ Resistor\n",
    "\n",
    "$C=1000\\mu F$  Capacitor\n",
    "\n",
    "6V battery pack\n",
    "\n",
    "double throw switch\n",
    "\n",
    "Voltmeter\n",
    "\n",
    "# Circuit diagram\n",
    "\n",
    "<img src=\"circuit diagram.jpg\" height=\"400\" width=\"400\" />\n"
   ]
  },
  {
   "cell_type": "markdown",
   "metadata": {},
   "source": [
    "# discharging\n",
    "\n",
    "| Time(s) | Voltage(V) |\n",
    "|-------|------|\n",
    "|0|3.8|\n",
    "|10|2.25|\n",
    "|20|1.51|\n",
    "|30|1.01|\n",
    "|40|0.69|\n",
    "|50|0.48|\n",
    "|60|0.34|\n",
    "|70|0.25|\n",
    "|80|0.18|\n",
    "|90|0.13|\n",
    "|100|0.09|\n",
    "|110|0.07|\n",
    "|120|0.05|\n",
    "|130|0.04|\n",
    "|140|0.03|\n",
    "|150|0.02|\n",
    "|160|0.02|\n",
    "|170|0.01|\n",
    "|180|0.01|\n",
    "|190|0.01|\n",
    "\n",
    "<img src=\"discharge.jpg\" height=\"500\" width=\"500\" />\n",
    "\n",
    "\n",
    "\n",
    "\n",
    "\n",
    "   \n",
    "\n",
    "\n"
   ]
  },
  {
   "cell_type": "markdown",
   "metadata": {},
   "source": [
    "# Charging\n",
    "\n",
    "\n",
    "| Time(s) | Voltage(V)|\n",
    "|-------|------|\n",
    "| 0 | 0 |\n",
    "|10| 1.96 |\n",
    "|20| 3.06 |\n",
    "|30| 3.54 |\n",
    "|40| 3.62 |\n",
    "|50| 3.65 |\n",
    "|60| 3.66 |\n",
    "\n",
    "<img src=\"charging capacitor.jpg\" height=\"500\" width=\"500\" />\n"
   ]
  },
  {
   "cell_type": "markdown",
   "metadata": {},
   "source": [
    "# Health & Safety\n",
    "There was nothing to mention due to the low voltage used which wasn't dangerous"
   ]
  }
 ],
 "metadata": {
  "kernelspec": {
   "display_name": "Python 3",
   "language": "python",
   "name": "python3"
  },
  "language_info": {
   "codemirror_mode": {
    "name": "ipython",
    "version": 3
   },
   "file_extension": ".py",
   "mimetype": "text/x-python",
   "name": "python",
   "nbconvert_exporter": "python",
   "pygments_lexer": "ipython3",
   "version": "3.6.1"
  }
 },
 "nbformat": 4,
 "nbformat_minor": 1
}
