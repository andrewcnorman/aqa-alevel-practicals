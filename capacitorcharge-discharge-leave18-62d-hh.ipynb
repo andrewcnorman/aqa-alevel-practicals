{
 "cells": [
  {
   "cell_type": "markdown",
   "metadata": {},
   "source": [
    "# Capacitor charging / discharging\n",
    "\n",
    "### Introduction\n",
    "\n",
    "$V = V_{0} e^{-t/RC}$\n",
    "\n",
    "I am going to use a capacitor $C=2200~\\mu F$, resistor $R=10k\\Omega$\n",
    "\n",
    "This gives a time constant of 22 s\n"
   ]
  },
  {
   "cell_type": "markdown",
   "metadata": {},
   "source": [
    "| Voltage (Discharging) | Voltage (Charging) | $t/s$\n",
    "| ------- | --------- | ------- |\n",
    "| 4.62 | 0.00 | 0.00 |\n",
    "| 2.30 | 2.39   | 10 |\n",
    "| 1.30 | 3.62   | 20 |\n",
    "| 0.84 | 4.17   | 30 |\n",
    "| 0.51 | 4.42   | 40 |\n",
    "| 0.32 | 4.53   | 50 |\n",
    "| 0.17 | 4.58   | 60 |\n",
    "| 0.11 | 4.60   | 70 |\n",
    "| 0.08 | 4.62   | 80 |\n",
    "\n",
    "\n"
   ]
  },
  {
   "cell_type": "markdown",
   "metadata": {},
   "source": [
    "### Method\n",
    "Using the circuit shown below I can investigate the charging and discharging of the capacitor.\n",
    "\n",
    "\n",
    "\n",
    "Take readings every 10 seconds until charge/discharge almost complete (80s was a good time for this to happen). Then I plotted the charge and discharge curves for the voltages against time on the same graph as shown below."
   ]
  }
 ],
 "metadata": {
  "kernelspec": {
   "display_name": "Python 3",
   "language": "python",
   "name": "python3"
  },
  "language_info": {
   "codemirror_mode": {
    "name": "ipython",
    "version": 3
   },
   "file_extension": ".py",
   "mimetype": "text/x-python",
   "name": "python",
   "nbconvert_exporter": "python",
   "pygments_lexer": "ipython3",
   "version": "3.6.1"
  }
 },
 "nbformat": 4,
 "nbformat_minor": 1
}
