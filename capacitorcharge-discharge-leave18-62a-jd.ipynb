{
 "cells": [
  {
   "cell_type": "markdown",
   "metadata": {
    "collapsed": false
   },
   "source": [
    "\n",
    "### Practical 9: Investigation of the charge and discharge of capacitors.\n",
    "##### Theory\n",
    "\n",
    "As a capacitor of capacitance $ C $ is discharged through a resistor of resistance $ R $ the voltage across the capacitor $ V $ varies according to:\n",
    "\n",
    "$$ V = V_{0}e^{-t/RC} $$\n",
    "\n",
    "where $ V_{0} $ is the voltage across the capacitor when $ t = 0 $.\n",
    "\n",
    "\n",
    "If the same capacitor is now charged in series with a resistance $ R $, the voltage across the capacitor varies according to:\n",
    "\n",
    "\n",
    "$$ V = V_{0}(1-e^{-t/RC}) $$\n",
    "\n",
    "where $ V_{0} $ is the voltage across the capacitor when it is fully charged (i.e. the supply voltage).\n",
    "\n",
    "##### Risk assessment:\n",
    "\n",
    "Be careful of the possibility of overcharging the capacitor. This may lead to a live electrical hazard that may harm you.\n",
    "\n",
    "Do not bring water in close proximity to the circuit as to prevent possible spillage leading to a live electrical hazard. \n",
    "\n",
    "Always discharge the capacitor before attempting to touch the circuit.\n",
    "\n",
    "##### Circuit Diagram:\n",
    "\n",
    "<img src=\"WechatIMG2160.jpg\" height=\"500\" width=\"500\" />\n",
    "\n",
    "\n",
    "\n",
    "##### Charging:\n",
    "\n",
    "Capacitance: 2200 <span>&#181;</span>F\n",
    "\n",
    "Resistance: 100k <span>&#8486;</span>\n",
    "\n",
    "| Voltage(V) | Time(s) |\n",
    "| -------| ------|\n",
    "| 0.45 | 0|\n",
    "| 0.71 | 10 |\n",
    "| 0.91 | 20 |\n",
    "| 1.12 | 30 |\n",
    "| 1.23 | 40 |\n",
    "| 1.52 | 50 |\n",
    "| 1.70 | 60 |\n",
    "| 1.87 | 70 |\n",
    "| 2.04 | 80 |\n",
    "| 2.18 | 90 |\n",
    "| 2.43 | 100 |\n",
    "| 2.47 | 110 |\n",
    "| 2.59 | 120 |\n",
    "| 2.68 | 130 |\n",
    "| 2.77 | 140 |\n",
    "| 2.87 | 150 |\n",
    "| 2.94 | 160 |\n",
    "| 3.02 | 170 |\n",
    "| 3.10 | 180 |\n",
    "\n",
    "\n"
   ]
  },
  {
   "cell_type": "code",
   "execution_count": 13,
   "metadata": {
    "collapsed": false
   },
   "outputs": [
    {
     "data": {
      "image/png": "[encoded data removed]"
     }
    }
   ],
   "source": [
    "data = \"\"\"\n",
    "0.45\t0\n",
    "0.71\t10\n",
    "0.91\t20\n",
    "1.12\t30\n",
    "1.23\t40\n",
    "1.52\t50\n",
    "1.7\t60\n",
    "1.87\t70\n",
    "2.04\t80\n",
    "2.18\t90\n",
    "2.32\t100\n",
    "2.47\t110\n",
    "2.59\t120\n",
    "2.68\t130\n",
    "2.77\t140\n",
    "2.87\t150\n",
    "2.94\t160\n",
    "3.02\t170\n",
    "3.1\t180\n",
    "\n",
    "\"\"\".split('\\n')  # split this string on the \"newline\" character.\n",
    "\n",
    "#print len(data)\n",
    "\n",
    "\n",
    "#\n",
    "# The data is stored in a single string. Now, split the data and store\n",
    "# each column in a list. Convert the data from a string to a float.\n",
    "#\n",
    "\n",
    "tlist = []\n",
    "ylist = []\n",
    "\n",
    "for s in data:\n",
    "    if s:\n",
    "        t,y = s.split()     # split the string in two\n",
    "        t=float(t)          # convert time to float\n",
    "        y=float(y)    # convert y-position to float in number of dice\n",
    "        tlist.append(t)     # append to the list for time data\n",
    "        ylist.append(y)     # append to the list for y-position data\n",
    "        \n",
    "#print \"tlist=\",tlist\n",
    "#print \"ylist=\",ylist\n",
    "\n",
    "import matplotlib.pyplot as plt\n",
    "plt.title('Voltage over Time')\n",
    "plt.xlabel('Time (s)')\n",
    "plt.ylabel('Voltage (V)')\n",
    "plt.plot(ylist,tlist,'m.')\n",
    "plt.show()\n"
   ]
  },
  {
   "cell_type": "markdown",
   "metadata": {
    "collapsed": false
   },
   "source": [
   ]
  },
  {
   "cell_type": "markdown",
   "metadata": {
    "collapsed": false
   },
   "source": [
    "### Discharging:\n",
    "\n",
    "Capacitance: 2200 <span>&#181;</span>F\n",
    "\n",
    "Resistance: 100k <span>&#8486;</span>\n",
    "\n",
    "| Voltage(V) | Time(s) |\n",
    "| -------| ------|\n",
    "| 3.36 | 0|\n",
    "| 3.17 | 10 |\n",
    "| 3.01 | 20 |\n",
    "| 2.87 | 30 |\n",
    "| 2.72 | 40 |\n",
    "| 2.58 | 50 |\n",
    "| 2.48 | 60 |\n",
    "| 2.35 | 70 |\n",
    "| 2.25 | 80 |\n",
    "| 2.13 | 90 |\n",
    "| 2.03 | 100 |\n",
    "| 1.93 | 110 |\n",
    "| 1.83 | 120 |\n",
    "| 1.76 | 130 |\n",
    "| 1.67 | 140 |\n",
    "| 1.60 | 150 |\n",
    "| 1.51 | 160 |\n",
    "| 1.44 | 170 |\n",
    "| 1.37 | 180 |\n"
   ]
  },
  {
   "cell_type": "code",
   "execution_count": 11,
   "metadata": {
    "collapsed": false
   },
   "outputs": [
    {
     "data": {
      "image/png": "[encoded data removed]"
     }
    }
   ],
   "source": [
    "data = \"\"\"\n",
    "3.36\t0\n",
    "3.17\t10\n",
    "3.01\t20\n",
    "2.87\t30\n",
    "2.72\t40\n",
    "2.58\t50\n",
    "2.48\t60\n",
    "2.35\t70\n",
    "2.25\t80\n",
    "2.13\t90\n",
    "2.03\t100\n",
    "1.93\t110\n",
    "1.83\t120\n",
    "1.76\t130\n",
    "1.67\t140\n",
    "1.6\t150\n",
    "1.51\t160\n",
    "1.44\t170\n",
    "1.37\t180\n",
    "\n",
    "\n",
    "\"\"\".split('\\n')  # split this string on the \"newline\" character.\n",
    "\n",
    "#print len(data)\n",
    "\n",
    "\n",
    "#\n",
    "# The data is stored in a single string. Now, split the data and store\n",
    "# each column in a list. Convert the data from a string to a float.\n",
    "#\n",
    "\n",
    "tlist = []\n",
    "ylist = []\n",
    "\n",
    "for s in data:\n",
    "    if s:\n",
    "        t,y = s.split()     # split the string in two\n",
    "        t=float(t)          # convert time to float\n",
    "        y=float(y)    # convert y-position to float in number of dice\n",
    "        tlist.append(t)     # append to the list for time data\n",
    "        ylist.append(y)     # append to the list for y-position data\n",
    "        \n",
    "#print \"tlist=\",tlist\n",
    "#print \"ylist=\",ylist\n",
    "\n",
    "import matplotlib.pyplot as plt\n",
    "plt.title('Voltage over Time')\n",
    "plt.xlabel('Time (s)')\n",
    "plt.ylabel('Voltage (V)')\n",
    "plt.plot(ylist,tlist,'m.')\n",
    "plt.show()\n"
   ]
  },
  {
   "cell_type": "markdown",
   "metadata": {
    "collapsed": false
   },
   "source": [
    "##### Analysis\n",
    "Our primary set of results depicting the charging capacitor displayed a positive correlation between voltage and time. Due to the relatively short interval in which we measured the results we were unable to clearly dispaly the exponential relationship.\n",
    "\n",
    "Our secondary set of results depicting the discharging capacitor displayed a negative correlation between voltage and time. Due to the relatively short interval in which we measured the results we were unable to clearly dispaly the exponential relationship."
   ]
  },
  {
   "cell_type": "code",
   "execution_count": 0,
   "metadata": {
    "collapsed": false
   },
   "outputs": [
   ],
   "source": [
   ]
  }
 ],
 "metadata": {
  "kernelspec": {
   "display_name": "Python 2 (SageMath)",
   "language": "python",
   "name": "python2"
  },
  "language_info": {
   "codemirror_mode": {
    "name": "ipython",
    "version": 2
   },
   "file_extension": ".py",
   "mimetype": "text/x-python",
   "name": "python",
   "nbconvert_exporter": "python",
   "pygments_lexer": "ipython2",
   "version": "2.7.13"
  }
 },
 "nbformat": 4,
 "nbformat_minor": 0
}