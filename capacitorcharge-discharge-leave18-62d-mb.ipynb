{
 "cells": [
  {
   "cell_type": "markdown",
   "metadata": {},
   "source": [
    "# capacitor charging/discharging\n",
    "### introduction\n",
    "This experiment is to invetigate the charging and discharging of a capacitor.\n",
    "$ V= v_{0} e^{-t/RC} $"
   ]
  },
  {
   "cell_type": "markdown",
   "metadata": {},
   "source": [
    "\n",
    "\n",
    "\n",
    "\n",
    "Charging\n",
    "\n",
    "| Voltage  |$ t/s $ |\n",
    "|----------|--------|\n",
    "|     4    |   5    |"
   ]
  },
  {
   "cell_type": "markdown",
   "metadata": {},
   "source": [
    "Discharging\n"
   ]
  }
 ],
 "metadata": {
  "kernelspec": {
   "display_name": "Python 3",
   "language": "python",
   "name": "python3"
  },
  "language_info": {
   "codemirror_mode": {
    "name": "ipython",
    "version": 3
   },
   "file_extension": ".py",
   "mimetype": "text/x-python",
   "name": "python",
   "nbconvert_exporter": "python",
   "pygments_lexer": "ipython3",
   "version": "3.6.1"
  }
 },
 "nbformat": 4,
 "nbformat_minor": 1
}
