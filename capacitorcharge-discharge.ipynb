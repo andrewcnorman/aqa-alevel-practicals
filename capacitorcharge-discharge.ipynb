{
 "cells": [
  {
   "cell_type": "markdown",
   "metadata": {},
   "source": [
    "## Practical 9: Investigation of the charge and discharge of capactitors\n",
    "\n",
    "- CPAC 2: Applies investigative approaches and methods when using instruments and equipment\n",
    "- CPAC 3: Safely uses a range of practical equipment and materials\n",
    "- CPAC 5: Researches, references and reports\n",
    "\n",
    "(See CPACs for details)\n",
    "\n",
    "### Safety Considerations\n",
    "\n",
    "consider hazards and risks associated with circuits and capacitors\n",
    "\n",
    "### Theory\n",
    "\n",
    "As a capacitor of capacitance $C$ is discharged through a resistor of resistance $R$ the potential difference $V$ varies according to the equation\n",
    "\n",
    "<!-- This will get SI unitx to work (somewhat) -->\n",
    "$$\\newcommand{\\SI}[2]{{#1}~\\mathrm{#2}}\n",
    "\\newcommand{\\ohm}{\\Omega}\n",
    "\\newcommand{\\farad}{F}\n",
    "\\newcommand{\\micro}{\\mu}$$\n",
    "$$V=V_{0}e^{-\\frac{t}{RC}}$$\n",
    "where $V_{0}$ is the potential difference when $t=0$.\n",
    "\n",
    "### Apparatus\n",
    "\n",
    "- various capacitors (including $\\SI{2200}{\\micro\\farad}$, $\\SI{1000}{\\micro\\farad}$ and $\\SI{470}{\\micro\\farad}$)\n",
    "- various resistors\n",
    "- voltmeter\n",
    "- \\SI{6}{V} battery pack\n",
    "- SPDT switch\n",
    "- stopclock\n",
    "- leads\n",
    "\n",
    "### Experimental method\n",
    "\n",
    "Design a single circuit to investigate the charging and discharging of a capacitor.  Choose suitable values of $R$ and $C$ to allow a complete set of results to be obtained within a reasonable time frame, repeats are not required.\n",
    "\n",
    "Plot the charge and discharge curves on the same graph.  Plot a second graph to confirm that the discharge curve is exponential.\n",
    "\n",
    "## Write up\n",
    "\n",
    "Diagram of circuit\n",
    "\n",
    "$R=\\SI{100}{k\\ohm}$, $R=\\SI{2200}{\\micro\\farad}$\n",
    "\n",
    "| Time / s | Voltage / V| Voltage / V|\n",
    "|----------|------------|------------|\n",
    "|10|0.25|3.41|\n",
    "|20|0.53|3.23|\n",
    "|30|0.75|3.07|\n",
    "|40|0.96|2.93|\n",
    "|50|1.17|2.79|\n",
    "|60|1.34|2.62|\n",
    "|70|1.56|2.52|\n",
    "|80|1.72|2.40|\n",
    "|90|1.89|2.29|\n",
    "|100|2.04|2.18|\n",
    "|110|2.20|2.09|\n",
    "|120|2.34|1.99|\n",
    "|130|2.47|1.90|\n",
    "|140|2.60|1.81|\n",
    "|150|2.71|1.72|\n",
    "|160|2.81|1.64|\n",
    "|170|2.90|1.56|\n",
    "|180|3.00|1.49|\n",
    "|190|3.09|1.42|\n",
    "|200|3.18|1.36|\n",
    "|210|3.28|1.29|\n",
    "|220|3.35|1.23|\n",
    "|230|3.43|1.18|\n",
    "|240|3.50|1.12|\n",
    "|250|3.57|1.07|\n",
    "\n",
    "\n"
   ]
  },
  {
   "cell_type": "code",
   "execution_count": 1,
   "metadata": {},
   "outputs": [
    {
     "data": {
      "image/png": "[encoded data removed]",
      "text/plain": [
       "<matplotlib.figure.Figure at 0xb4289bcc>"
      ]
     },
     "metadata": {},
     "output_type": "display_data"
    }
   ],
   "source": [
    "# Plotting library\n",
    "import matplotlib.pyplot as plt\n",
    "\n",
    "# time into an array\n",
    "# Time is every 10 seconds, starting at 10, ending at 250\n",
    "time=[]\n",
    "for i in range(25):\n",
    "    time.append(10*i+10)\n",
    "\n",
    "# Import voltage data into an array\n",
    "voltage = [0.25,0.53,0.75,0.96,1.17,1.34,1.56,1.72,1.89,2.04,2.2,2.34,2.47,2.6,2.71,2.81,2.9,3.00,3.09,3.18,3.28,3.35,3.43,3.5,3.57]\n",
    "voltage2 = [3.41,3.23,3.07,2.93,2.79,2.62,2.52,2.4,2.29,2.18,2.09,1.99,1.9,1.81,1.72,1.64,1.56,1.49,1.42,1.36,1.29,1.23,1.18,1.12,1.07]\n",
    "\n",
    "plt.plot(time, voltage,  marker='x', linestyle=\"none\", color='red', label=\"charging\")\n",
    "plt.plot(time, voltage2,  marker='o', linestyle=\"none\", color='blue', label=\"discharging\")\n",
    "\n",
    "plt.xlabel('time / s')\n",
    "plt.ylabel('Voltage / V')\n",
    "plt.title('Charging and discharging of a Capacitor')\n",
    "\n",
    "plt.show()"
   ]
  },
  {
   "cell_type": "code",
   "execution_count": null,
   "metadata": {
    "collapsed": true
   },
   "outputs": [],
   "source": []
  }
 ],
 "metadata": {
  "kernelspec": {
   "display_name": "Python 3",
   "language": "python",
   "name": "python3"
  },
  "language_info": {
   "codemirror_mode": {
    "name": "ipython",
    "version": 3
   },
   "file_extension": ".py",
   "mimetype": "text/x-python",
   "name": "python",
   "nbconvert_exporter": "python",
   "pygments_lexer": "ipython3",
   "version": "3.6.1"
  }
 },
 "nbformat": 4,
 "nbformat_minor": 2
}
