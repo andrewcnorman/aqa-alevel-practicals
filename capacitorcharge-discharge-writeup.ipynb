{
 "cells": [
  {
   "cell_type": "markdown",
   "metadata": {},
   "source": [
    "\n",
    "# Practical 9: Investigation of the charge and discharge of capactitors\n",
    "\n",
    "## Introduction\n",
    "\n",
    "In this experiment, the aim is to confirm the theory we have learnt in lessons that a capacitor's chage increases / decreases exponentially when it is charging / discharging.\n",
    "\n"
   ]
  },
  {
   "cell_type": "markdown",
   "metadata": {},
   "source": [
    "## Theory\n",
    "<!-- This will get SI unitx to work (somewhat) -->\n",
    "$$\\newcommand{\\SI}[2]{{#1}~\\mathrm{#2}}\n",
    "\\newcommand{\\ohm}{\\Omega}\n",
    "\\newcommand{\\farad}{F}\n",
    "\\newcommand{\\micro}{\\mu}$$\n",
    "As a capacitor of capacitance $C$ is discharged through a resistor of resistance $R$ the voltage across the capacitor $V$ varies according to\n",
    "\n",
    "$$\n",
    "\\begin{equation}\n",
    "V=V_0\\text{e}^{-\\frac{t}{RC}}\n",
    "\\end{equation}\n",
    "$$\n",
    "\n",
    "where $V_0$ is the voltage across the capacitor when $t=0$.\n",
    "\n",
    "If the same capacitor is now charged in series with a resistance $R$, the voltage across the capacitor varies according to\n",
    "\n",
    "$$\n",
    "\\begin{equation}\n",
    "V=V_0\\left(1-\\text{e}^{-\\frac{t}{RC}}\\right)\n",
    "\\end{equation}\n",
    "$$\n",
    "\n",
    "where $V_0$ is the voltage across the capacitor _when it is fully charged_ (i.e. the supply voltage).\n",
    "\n",
    "## Experimental method\n",
    "\n",
    "Here is the circuit I used:\n",
    "<img src=\"capcircuit.jpg\" height=\"150\" width=\"150\" />\n",
    "\n",
    "After a preliminary experiment to investigate the circuit, I decided to use a capacitor with capacitance $\\SI{2200}{\\micro\\farad}$, and resistor with $R=\\SI{22}{k\\ohm}$, giving a time constant of $\\SI{48}{s}$.  I consider this to be a reasonable amount of time to get the experiment done, but allowing the voltage to change slowly enough to get accurate results.\n",
    "\n",
    "## Risk assessment\n",
    "\n",
    "1. Capacitors store energy (I got an electric shock once when dismantling a camera flash) so I am going to be careful not to touch the contacts of the capacitor unless I know I have discharged it first\n",
    "1. Usual hazards with electrical equipment: keeping well away from water, taking care not to short out the battery\n",
    "1. Working in lab: bags under desk, tidy work area...\n"
   ]
  },
  {
   "cell_type": "markdown",
   "metadata": {},
   "source": [
    "\n",
    "## Results\n",
    "\n",
    "| $t/\\mathrm{s}$ | Charging voltage / V | Discharging voltage / V |\n",
    "|-------|------|\n",
    "| 0 | 0.00 | 3.93 |\n",
    "| 10 | 0.84 | 3.08 |\n",
    "| 20 | 1.59 | 2.48 |\n",
    "| 30 | 2.18 | 2.02 |\n",
    "| 40 | 2.68 | 1.65 |\n",
    "| 50 | 3.11 | 1.40 |\n",
    "| 60 | 3.43 | 1.17 |\n",
    "| 70 | 3.69 | 0.99 |\n",
    "| 80 | 3.82 | 0.84 |\n",
    "| 90 | 3.90 | 0.71 |\n",
    "| 100 | 3.95 | 0.59 |\n",
    "| 110 | 3.98 | 0.50 |\n",
    "| 120 | 4.01 | 0.42 |\n",
    "| 130 | 4.02 | 0.36 |\n",
    "| 140 | 4.03 | 0.30 |\n",
    "| 150 | 4.03 | 0.25 |\n",
    "| 170 | 4.03 | 0.22 |\n",
    "| 180 | - | 0.18 |\n",
    "| 190 | - | 0.15 |\n",
    "| 200 | - | 0.13 |\n",
    "| 210 | - | 0.11 |\n",
    "\n",
    "## Analysis\n",
    "\n",
    "My first graph shows the charging and discharging voltages of the capacitor against time:"
   ]
  },
  {
   "cell_type": "code",
   "execution_count": 2,
   "metadata": {},
   "outputs": [
    {
     "data": {
      "image/png": "[encoded data removed]",
      "text/plain": [
       "<matplotlib.figure.Figure at 0xb43183cc>"
      ]
     },
     "metadata": {},
     "output_type": "display_data"
    }
   ],
   "source": [
    "%matplotlib inline\n",
    "# Plotting library\n",
    "import matplotlib.pyplot as plt\n",
    "import numpy as np\n",
    "from scipy.optimize import curve_fit\n",
    "\n",
    "# time into an array\n",
    "# Time is every 10 seconds, starting at 10, ending at 210\n",
    "times=[]\n",
    "for i in range(21):\n",
    "    times.append(10.0*i+10.0)\n",
    "\n",
    "# Import voltage data into an array\n",
    "voltage = [0.00,0.84,1.59,2.18,2.68,3.11,3.43,3.69,3.82,3.90,3.95,3.98,4.01,4.02,4.03,4.03,4.03,np.nan,np.nan,np.nan,np.nan]\n",
    "voltage2 = [3.93,3.08,2.48,2.02,1.65,1.40,1.17,0.99,0.84,0.71,0.59,0.50,0.42,0.36,0.30,0.25,0.22,0.18,0.15,0.13,0.11]\n",
    "    \n",
    "# Discharging fit\n",
    "def func(x, a, b, c):\n",
    "    return a*np.exp(-b*x) + c\n",
    "\n",
    "x = np.linspace(0,210,50)\n",
    "y = func(x, 6.0, 0.05, 0.0)\n",
    "\n",
    "popt, pcov = curve_fit(func, times, voltage2) # do curve fit\n",
    "\n",
    "plt.plot(x, func(x, *popt), 'b-') #plot fit\n",
    "\n",
    "# Charging fit\n",
    "def func(x, a, b, c):\n",
    "    return a*(1-np.exp(-b*x)) + c\n",
    "\n",
    "x = np.linspace(0,210,50)\n",
    "y = func(x, 6.0, 0.05, 0.0)\n",
    "\n",
    "popt, pcov = curve_fit(func, times[0:17], voltage[0:17]) # do fit; only use values not NaN\n",
    "\n",
    "plt.plot(x, func(x, *popt), 'r-') #plot fit\n",
    "\n",
    "plt.plot(times, voltage,  marker='x', linestyle=\"none\", color='red', label=\"charging\")\n",
    "plt.plot(times, voltage2,  marker='+', linestyle=\"none\", color='blue', label=\"discharging\")\n",
    "\n",
    "plt.xlim(0,220) # range on x axis\n",
    "plt.ylim(0,5) # range on y axis\n",
    "\n",
    "plt.xlabel('time / s')\n",
    "plt.ylabel('Voltage / V')\n",
    "plt.title('Charging and discharging of a Capacitor')\n",
    "\n",
    "plt.show()"
   ]
  },
  {
   "cell_type": "markdown",
   "metadata": {},
   "source": [
    "In my second graph, I am going to check that the discharge curve is exponential.  Starting with the equation for discharging a capacitor and taking logs of both sides:\n",
    "\n",
    "$$\n",
    "\\begin{align}\n",
    "V&=V_0\\text{e}^{-\\frac{t}{RC}}\\\\\n",
    "\\ln V &=\\ln V_{0}-\\frac{t}{RC}\n",
    "\\end{align}\n",
    "$$\n",
    "\n",
    "If I now plot $\\ln V$ on the $y$-axis and $t$ on the $x$-axis, the graph should be a straight line with $y$-intercept of $\\ln V_{0}$ and a negative slope with gradient $-\\frac{1}{RC}$.\n",
    "\n",
    "Here is this second plot:"
   ]
  },
  {
   "cell_type": "code",
   "execution_count": 16,
   "metadata": {},
   "outputs": [
    {
     "data": {
      "image/png": "[encoded data removed]",
      "text/plain": [
       "<matplotlib.figure.Figure at 0xabe5bcec>"
      ]
     },
     "metadata": {},
     "output_type": "display_data"
    },
    {
     "name": "stdout",
     "output_type": "stream",
     "text": [
      "-0.0174717803181\n"
     ]
    }
   ],
   "source": [
    "# Plotting library\n",
    "import matplotlib.pyplot as plt\n",
    "import numpy as np\n",
    "from scipy import stats #for best fit line fitting\n",
    "\n",
    "# time into an array\n",
    "# Time is every 10 seconds, starting at 10, ending at 250\n",
    "times=[]\n",
    "for i in range(21):\n",
    "    times.append(10*i+10)\n",
    "\n",
    "# Import voltage data into an array\n",
    "voltage = [3.93,3.08,2.48,2.02,1.65,1.40,1.17,0.99,0.84,0.71,0.59,0.50,0.42,0.36,0.30,0.25,0.22,0.18,0.15,0.13,0.11]\n",
    "\n",
    "slope, intercept, r_value, p_value, std_err = stats.linregress(times,np.log(voltage)) # fit a straight line(least squares)\n",
    "\n",
    "x = np.linspace(0,210,50) # for plotting the best fit line\n",
    "y= slope * x + intercept # gradient line y values\n",
    "plt.plot(x, y, 'b-') # plot best fit line\n",
    "\n",
    "plt.plot(times, np.log(voltage),  marker='+', linestyle=\"none\", color='blue') # plot the log data\n",
    "\n",
    "plt.xlim(0,220) # x range limits\n",
    "\n",
    "plt.xlabel('time / s')\n",
    "plt.ylabel('ln (Voltage / V)')\n",
    "plt.title('Discharge of a Capacitor')\n",
    "\n",
    "plt.show()\n",
    "\n",
    "print (slope) # print the value of the gradient"
   ]
  },
  {
   "cell_type": "markdown",
   "metadata": {
    "collapsed": true
   },
   "source": [
    "The value of the gradient (representing $-1/RC$ in s$^{-1}$) gives a value of $RC=\\SI{57}{s}$, which is quite a way from the $\\SI{48}{s}$ I expected it to be."
   ]
  }
 ],
 "metadata": {
  "kernelspec": {
   "display_name": "Python 3",
   "language": "python",
   "name": "python3"
  },
  "language_info": {
   "codemirror_mode": {
    "name": "ipython",
    "version": 3
   },
   "file_extension": ".py",
   "mimetype": "text/x-python",
   "name": "python",
   "nbconvert_exporter": "python",
   "pygments_lexer": "ipython3",
   "version": "3.6.1"
  }
 },
 "nbformat": 4,
 "nbformat_minor": 1
}
